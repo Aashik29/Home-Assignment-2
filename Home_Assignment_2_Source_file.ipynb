{
  "nbformat": 4,
  "nbformat_minor": 0,
  "metadata": {
    "colab": {
      "provenance": []
    },
    "kernelspec": {
      "name": "python3",
      "display_name": "Python 3"
    },
    "language_info": {
      "name": "python"
    }
  },
  "cells": [
    {
      "cell_type": "markdown",
      "source": [
        "Convolution Operations with Different Parameters\n",
        "Task: Implement Convolution with Different Stride and Padding (10 points)\n",
        "Write a Python script using NumPy and TensorFlow/Keras to perform convolution on a 5×5 input matrix using a 3×3 kernel with varying parameters.\n",
        "1.\tDefine the following 5×5 input matrix:\n",
        "2.\tDefine the following 3×3 kernel:\n",
        "3.\tPerform convolution operations with:\n",
        "\t# Stride = 1, Padding = ‘VALID’\n",
        "  # Stride = 1, Padding = ‘SAME’\n",
        "  #\tStride = 2, Padding = ‘VALID’\n",
        "  #\tStride = 2, Padding = ‘SAME’\n",
        "4.\tPrint the output feature maps for each case.\n"
      ],
      "metadata": {
        "id": "EN-aWzW_78XK"
      }
    },
    {
      "cell_type": "code",
      "execution_count": 1,
      "metadata": {
        "colab": {
          "base_uri": "https://localhost:8080/"
        },
        "id": "gKPbAPfx5uQA",
        "outputId": "f90a9a5c-1938-4b27-d852-ad7555727f80"
      },
      "outputs": [
        {
          "output_type": "stream",
          "name": "stdout",
          "text": [
            "Stride = 1, Padding = 'VALID':\n",
            " [[0. 0. 0.]\n",
            " [0. 0. 0.]\n",
            " [0. 0. 0.]] \n",
            "\n",
            "Stride = 1, Padding = 'SAME':\n",
            " [[  4.   3.   2.   1.  -6.]\n",
            " [ -5.   0.   0.   0. -11.]\n",
            " [-10.   0.   0.   0. -16.]\n",
            " [-15.   0.   0.   0. -21.]\n",
            " [-46. -27. -28. -29. -56.]] \n",
            "\n",
            "Stride = 2, Padding = 'VALID':\n",
            " [[0. 0.]\n",
            " [0. 0.]] \n",
            "\n",
            "Stride = 2, Padding = 'SAME':\n",
            " [[  4.   2.  -6.]\n",
            " [-10.   0. -16.]\n",
            " [-46. -28. -56.]] \n",
            "\n"
          ]
        }
      ],
      "source": [
        "import numpy as np\n",
        "import tensorflow as tf\n",
        "\n",
        "# Define 5x5 input\n",
        "input_matrix = np.array([\n",
        "    [1,  2,  3,  4,  5],\n",
        "    [6,  7,  8,  9, 10],\n",
        "    [11, 12, 13, 14, 15],\n",
        "    [16, 17, 18, 19, 20],\n",
        "    [21, 22, 23, 24, 25]\n",
        "], dtype=np.float32)\n",
        "\n",
        "# Define 3x3 kernel\n",
        "kernel = np.array([\n",
        "    [0,  1, 0],\n",
        "    [1, -4, 1],\n",
        "    [0,  1, 0]\n",
        "], dtype=np.float32)\n",
        "\n",
        "# Reshape for TensorFlow: [batch, height, width, channels]\n",
        "input_tf = input_matrix[np.newaxis, :, :, np.newaxis]\n",
        "kernel_tf = kernel[:, :, np.newaxis, np.newaxis]\n",
        "\n",
        "def run_conv(stride, padding):\n",
        "    result = tf.nn.conv2d(\n",
        "        input=input_tf,\n",
        "        filters=kernel_tf,\n",
        "        strides=[1, stride, stride, 1],\n",
        "        padding=padding\n",
        "    )\n",
        "    return result.numpy().squeeze()\n",
        "\n",
        "# Run all cases\n",
        "out_1_valid = run_conv(1, 'VALID')\n",
        "out_1_same = run_conv(1, 'SAME')\n",
        "out_2_valid = run_conv(2, 'VALID')\n",
        "out_2_same = run_conv(2, 'SAME')\n",
        "\n",
        "# Print results\n",
        "print(\"Stride = 1, Padding = 'VALID':\\n\", out_1_valid, \"\\n\")\n",
        "print(\"Stride = 1, Padding = 'SAME':\\n\", out_1_same, \"\\n\")\n",
        "print(\"Stride = 2, Padding = 'VALID':\\n\", out_2_valid, \"\\n\")\n",
        "print(\"Stride = 2, Padding = 'SAME':\\n\", out_2_same, \"\\n\")\n"
      ]
    },
    {
      "cell_type": "markdown",
      "source": [
        "Question 2: CNN Feature Extraction with Filters and Pooling\n",
        "Task 1: Implement Edge Detection Using Convolution (15 points)\n",
        "Write a Python script using NumPy and OpenCV (cv2) to apply edge detection on an image using a Sobel filter.\n",
        "•\tLoad a grayscale image (you can use any sample image).\n",
        "•\tApply the Sobel filter for edge detection in the x-direction and y-direction.\n",
        "•\tDisplay the original image and the filtered images.\n",
        "Use the following Sobel filters:"
      ],
      "metadata": {
        "id": "mavK0PQE8T6A"
      }
    },
    {
      "cell_type": "code",
      "source": [
        "import cv2\n",
        "import numpy as np\n",
        "from matplotlib import pyplot as plt\n",
        "\n",
        "# Load a grayscale image (change the path as needed)\n",
        "img = cv2.imread('c1f87079-4e8d-43ec-8d9d-fc38df0a55ce.png', cv2.IMREAD_GRAYSCALE)\n",
        "\n",
        "# If img is None, use a sample image (fallback)\n",
        "if img is None:\n",
        "    img = np.tile(np.linspace(0, 255, 100, dtype=np.uint8), (100,1))\n",
        "\n",
        "# Define Sobel X and Y filters (as given)\n",
        "sobel_x = np.array([\n",
        "    [-1, 0, 1],\n",
        "    [-2, 0, 2],\n",
        "    [-1, 0, 1]\n",
        "], dtype=np.float32)\n",
        "\n",
        "sobel_y = np.array([\n",
        "    [-1, -2, -1],\n",
        "    [ 0,  0,  0],\n",
        "    [ 1,  2,  1]\n",
        "], dtype=np.float32)\n",
        "\n",
        "# Apply Sobel filters using cv2.filter2D\n",
        "edge_x = cv2.filter2D(img, -1, sobel_x)\n",
        "edge_y = cv2.filter2D(img, -1, sobel_y)\n",
        "\n",
        "# Display results\n",
        "plt.figure(figsize=(12, 4))\n",
        "plt.subplot(1, 3, 1)\n",
        "plt.title('Original')\n",
        "plt.imshow(img, cmap='gray')\n",
        "plt.axis('off')\n",
        "\n",
        "plt.subplot(1, 3, 2)\n",
        "plt.title('Sobel X')\n",
        "plt.imshow(edge_x, cmap='gray')\n",
        "plt.axis('off')\n",
        "\n",
        "plt.subplot(1, 3, 3)\n",
        "plt.title('Sobel Y')\n",
        "plt.imshow(edge_y, cmap='gray')\n",
        "plt.axis('off')\n",
        "\n",
        "plt.tight_layout()\n",
        "plt.show()\n"
      ],
      "metadata": {
        "colab": {
          "base_uri": "https://localhost:8080/",
          "height": 424
        },
        "id": "lapk4QXP6Wel",
        "outputId": "ebe6e3d8-fe76-463e-fd20-e16b4140cdc5"
      },
      "execution_count": 2,
      "outputs": [
        {
          "output_type": "display_data",
          "data": {
            "text/plain": [
              "<Figure size 1200x400 with 3 Axes>"
            ],
            "image/png": "[encoded data removed]"
          },
          "metadata": {}
        }
      ]
    },
    {
      "cell_type": "markdown",
      "source": [
        "Task 2: Implement Max Pooling and Average Pooling (15 points)\n",
        "Write a Python script using TensorFlow/Keras to demonstrate Max Pooling and Average Pooling.\n",
        "•\tCreate a random 4x4 matrix as an input image.\n",
        "•\tApply a 2x2 Max Pooling operation.\n",
        "•\tApply a 2x2 Average Pooling operation.\n",
        "•\tPrint the original matrix, max-pooled matrix, and average-pooled matrix.\n",
        "Expected Output\n",
        "Task1: Edge Detection using Sobel Filter\n",
        "•\tDisplay three images:\n",
        "1.\tOriginal Image\n",
        "2.\tEdge detection using Sobel-X\n",
        "3.\tEdge detection using Sobel-Y\n",
        "Task2: Pooling Operations on Random 4×4 Matrix\n",
        "•\tPrinted original matrix, max pooled matrix, and average pooled matrix.\n"
      ],
      "metadata": {
        "id": "8Wg4Rj008mmO"
      }
    },
    {
      "cell_type": "code",
      "source": [
        "import tensorflow as tf\n",
        "import numpy as np\n",
        "\n",
        "# Create a random 4x4 matrix with float32 dtype\n",
        "input_matrix = np.random.randint(0, 10, (1, 4, 4, 1)).astype(np.float32) # Add .astype(np.float32) to cast to float32\n",
        "\n",
        "# Max Pooling 2x2\n",
        "max_pooled = tf.nn.max_pool2d(input_matrix, ksize=2, strides=2, padding='VALID')\n",
        "\n",
        "# Average Pooling 2x2\n",
        "avg_pooled = tf.nn.avg_pool2d(input_matrix, ksize=2, strides=2, padding='VALID')\n",
        "\n",
        "print(\"Original matrix:\\n\", input_matrix[0, :, :, 0], \"\\n\")\n",
        "print(\"Max pooled matrix:\\n\", max_pooled.numpy()[0, :, :, 0], \"\\n\")\n",
        "print(\"Average pooled matrix:\\n\", avg_pooled.numpy()[0, :, :, 0], \"\\n\")"
      ],
      "metadata": {
        "colab": {
          "base_uri": "https://localhost:8080/"
        },
        "id": "bL-yLWYt6a9k",
        "outputId": "2655a342-3301-4b4d-9758-694a03b56393"
      },
      "execution_count": 4,
      "outputs": [
        {
          "output_type": "stream",
          "name": "stdout",
          "text": [
            "Original matrix:\n",
            " [[1. 4. 3. 8.]\n",
            " [2. 4. 8. 4.]\n",
            " [5. 7. 8. 0.]\n",
            " [5. 2. 1. 0.]] \n",
            "\n",
            "Max pooled matrix:\n",
            " [[4. 8.]\n",
            " [7. 8.]] \n",
            "\n",
            "Average pooled matrix:\n",
            " [[2.75 5.75]\n",
            " [4.75 2.25]] \n",
            "\n"
          ]
        }
      ]
    },
    {
      "cell_type": "markdown",
      "source": [
        "1. Load the Iris Dataset"
      ],
      "metadata": {
        "id": "5UMs8ukeHQbW"
      }
    },
    {
      "cell_type": "code",
      "source": [
        "from sklearn.datasets import load_iris\n",
        "import pandas as pd\n",
        "\n",
        "iris = load_iris()\n",
        "X = pd.DataFrame(iris.data, columns=iris.feature_names)\n",
        "y = iris.target\n"
      ],
      "metadata": {
        "id": "lX89Pqi16zAB"
      },
      "execution_count": 5,
      "outputs": []
    },
    {
      "cell_type": "markdown",
      "source": [
        "2. Min-Max Normalization"
      ],
      "metadata": {
        "id": "wyiBpA2SHUuY"
      }
    },
    {
      "cell_type": "code",
      "source": [
        "from sklearn.preprocessing import MinMaxScaler\n",
        "\n",
        "scaler = MinMaxScaler()\n",
        "X_minmax = pd.DataFrame(scaler.fit_transform(X), columns=X.columns)\n",
        "print(\"Min-Max Normalized Data (first 5 rows):\\n\", X_minmax.head())\n"
      ],
      "metadata": {
        "colab": {
          "base_uri": "https://localhost:8080/"
        },
        "id": "Tm6k6cjG67dR",
        "outputId": "c2c5e4ba-a349-4c65-9a8b-c4d44c5a7d3d"
      },
      "execution_count": 6,
      "outputs": [
        {
          "output_type": "stream",
          "name": "stdout",
          "text": [
            "Min-Max Normalized Data (first 5 rows):\n",
            "    sepal length (cm)  sepal width (cm)  petal length (cm)  petal width (cm)\n",
            "0           0.222222          0.625000           0.067797          0.041667\n",
            "1           0.166667          0.416667           0.067797          0.041667\n",
            "2           0.111111          0.500000           0.050847          0.041667\n",
            "3           0.083333          0.458333           0.084746          0.041667\n",
            "4           0.194444          0.666667           0.067797          0.041667\n"
          ]
        }
      ]
    },
    {
      "cell_type": "markdown",
      "source": [
        "Z-score Standardization and Visualization"
      ],
      "metadata": {
        "id": "jN_tYrRXHY9j"
      }
    },
    {
      "cell_type": "code",
      "source": [
        "from sklearn.preprocessing import StandardScaler\n",
        "import matplotlib.pyplot as plt\n",
        "\n",
        "# Z-score Standardization\n",
        "scaler_std = StandardScaler()\n",
        "X_std = pd.DataFrame(scaler_std.fit_transform(X), columns=X.columns)\n",
        "\n",
        "# Visualize distributions\n",
        "fig, axs = plt.subplots(1, 3, figsize=(15,4))\n",
        "axs[0].hist(X.values.ravel(), bins=20, color='grey')\n",
        "axs[0].set_title('Original Data')\n",
        "\n",
        "axs[1].hist(X_minmax.values.ravel(), bins=20, color='blue')\n",
        "axs[1].set_title('Min-Max Normalized')\n",
        "\n",
        "axs[2].hist(X_std.values.ravel(), bins=20, color='green')\n",
        "axs[2].set_title('Z-score Standardized')\n",
        "plt.tight_layout()\n",
        "plt.show()\n"
      ],
      "metadata": {
        "colab": {
          "base_uri": "https://localhost:8080/",
          "height": 362
        },
        "id": "wGxfNCRs60Jx",
        "outputId": "b0a897cb-ac22-4ad5-d45c-d82a12ff4e5e"
      },
      "execution_count": 7,
      "outputs": [
        {
          "output_type": "display_data",
          "data": {
            "text/plain": [
              "<Figure size 1500x400 with 3 Axes>"
            ],
            "image/png": "[encoded data removed]"
          },
          "metadata": {}
        }
      ]
    },
    {
      "cell_type": "markdown",
      "source": [
        "4. Train Logistic Regression Before & After Preprocessing"
      ],
      "metadata": {
        "id": "kCyaBof-HfOq"
      }
    },
    {
      "cell_type": "code",
      "source": [
        "from sklearn.linear_model import LogisticRegression\n",
        "from sklearn.model_selection import train_test_split\n",
        "from sklearn.metrics import accuracy_score\n",
        "\n",
        "def run_lr(X_data, y, note=''):\n",
        "    X_train, X_test, y_train, y_test = train_test_split(X_data, y, test_size=0.3, random_state=42)\n",
        "    clf = LogisticRegression(max_iter=200)\n",
        "    clf.fit(X_train, y_train)\n",
        "    y_pred = clf.predict(X_test)\n",
        "    acc = accuracy_score(y_test, y_pred)\n",
        "    print(f\"Logistic Regression Accuracy {note}: {acc:.4f}\")\n",
        "\n",
        "# Original\n",
        "run_lr(X, y, '(Original Data)')\n",
        "\n",
        "# Min-Max Normalized\n",
        "run_lr(X_minmax, y, '(Min-Max Normalized)')\n",
        "\n",
        "# Z-score Standardized\n",
        "run_lr(X_std, y, '(Z-score Standardized)')\n"
      ],
      "metadata": {
        "colab": {
          "base_uri": "https://localhost:8080/"
        },
        "id": "LH9ETud47BOE",
        "outputId": "fb7abf09-3a1b-4de4-8781-b0ba5dffc5b0"
      },
      "execution_count": 8,
      "outputs": [
        {
          "output_type": "stream",
          "name": "stdout",
          "text": [
            "Logistic Regression Accuracy (Original Data): 1.0000\n",
            "Logistic Regression Accuracy (Min-Max Normalized): 0.9111\n",
            "Logistic Regression Accuracy (Z-score Standardized): 1.0000\n"
          ]
        }
      ]
    }
  ]
}